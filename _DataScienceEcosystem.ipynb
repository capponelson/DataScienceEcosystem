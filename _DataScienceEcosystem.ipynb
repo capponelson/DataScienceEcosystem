{
 "cells": [
  {
   "cell_type": "markdown",
   "id": "fb1cfaa6-4083-4f34-9e90-b4e33ef7bd23",
   "metadata": {},
   "source": [
    "# Data Science Tools and Ecosystem"
   ]
  },
  {
   "cell_type": "markdown",
   "id": "55b70537-0921-42b3-9276-d5a38923e247",
   "metadata": {},
   "source": [
    "In this notebook, Data Science Tools and Ecosystem are summarized."
   ]
  },
  {
   "cell_type": "markdown",
   "id": "cbd65327-33d7-4a3c-adac-7a818bbc83ba",
   "metadata": {},
   "source": [
    "Some of the popular languages that Data Scientists use are:\n",
    "1. Python\n",
    "2. R\n",
    "3. SQL\n"
   ]
  },
  {
   "cell_type": "markdown",
   "id": "e0331ec0-e44f-4ece-a3b9-e18ecc32a768",
   "metadata": {},
   "source": [
    "Some of the commonly used libraries used by Data Scientists include:\n",
    "1. NumPy\n",
    "2. Pandas\n",
    "3. Scikit-learn\n"
   ]
  },
  {
   "cell_type": "markdown",
   "id": "cf0266fd-59cb-4d62-947d-2a7ccd38b186",
   "metadata": {},
   "source": [
    "| Data Science Tools |\n",
    "|--------------------|\n",
    "| Jupyter Notebooks   |\n",
    "| RStudio            |\n",
    "| Apache Zeppelin    |\n"
   ]
  },
  {
   "cell_type": "markdown",
   "id": "c33ddb77-f84a-4cbb-932d-4d02d699a1c3",
   "metadata": {},
   "source": [
    "### Below are a few examples of evaluating arithmetic expressions in Python.\n"
   ]
  },
  {
   "cell_type": "code",
   "execution_count": 3,
   "id": "5aa35260-fcd8-428d-bc17-b0357692f961",
   "metadata": {
    "tags": []
   },
   "outputs": [
    {
     "data": {
      "text/plain": [
       "17"
      ]
     },
     "execution_count": 3,
     "metadata": {},
     "output_type": "execute_result"
    }
   ],
   "source": [
    "# This a simple arithmetic expression to multiply then add integers\n",
    "(3 * 4) + 5"
   ]
  },
  {
   "cell_type": "code",
   "execution_count": 4,
   "id": "16afe12f-5e73-46e0-8bce-d41392a291ec",
   "metadata": {
    "tags": []
   },
   "outputs": [
    {
     "data": {
      "text/plain": [
       "3.3333333333333335"
      ]
     },
     "execution_count": 4,
     "metadata": {},
     "output_type": "execute_result"
    }
   ],
   "source": [
    "# This will convert 200 minutes to hours by dividing by 60\n",
    "200 / 60"
   ]
  },
  {
   "cell_type": "markdown",
   "id": "1bcc8e85-41da-4ef7-b861-d9540c888b67",
   "metadata": {},
   "source": [
    "**Objectives:**\n",
    "- List popular languages for Data Science\n",
    "- List commonly used libraries for Data Science\n",
    "- Demonstrate arithmetic expressions in Python\n"
   ]
  },
  {
   "cell_type": "markdown",
   "id": "beba3fb2-5d25-4dba-9603-403e79fb9195",
   "metadata": {},
   "source": [
    "## Author\n",
    "Your Name\n"
   ]
  },
  {
   "cell_type": "code",
   "execution_count": null,
   "id": "ba70af7b-cf8f-4213-88af-97a5dc9202aa",
   "metadata": {},
   "outputs": [],
   "source": []
  }
 ],
 "metadata": {
  "kernelspec": {
   "display_name": "Python",
   "language": "python",
   "name": "conda-env-python-py"
  },
  "language_info": {
   "codemirror_mode": {
    "name": "ipython",
    "version": 3
   },
   "file_extension": ".py",
   "mimetype": "text/x-python",
   "name": "python",
   "nbconvert_exporter": "python",
   "pygments_lexer": "ipython3",
   "version": "3.7.12"
  }
 },
 "nbformat": 4,
 "nbformat_minor": 5
}
